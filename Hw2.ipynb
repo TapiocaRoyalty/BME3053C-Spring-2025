{
  "nbformat": 4,
  "nbformat_minor": 0,
  "metadata": {
    "colab": {
      "provenance": [],
      "authorship_tag": "ABX9TyPLBHo92JvNNTWrALLqz5uB",
      "include_colab_link": true
    },
    "kernelspec": {
      "name": "python3",
      "display_name": "Python 3"
    },
    "language_info": {
      "name": "python"
    }
  },
  "cells": [
    {
      "cell_type": "markdown",
      "metadata": {
        "id": "view-in-github",
        "colab_type": "text"
      },
      "source": [
        "<a href=\"https://colab.research.google.com/github/TapiocaRoyalty/BME3053C-Spring-2025/blob/main/Hw2.ipynb\" target=\"_parent\"><img src=\"https://colab.research.google.com/assets/colab-badge.svg\" alt=\"Open In Colab\"/></a>"
      ]
    },
    {
      "cell_type": "code",
      "execution_count": 12,
      "metadata": {
        "colab": {
          "base_uri": "https://localhost:8080/"
        },
        "id": "4SfM80_9_eUX",
        "outputId": "7062e711-37d6-4cd1-aa77-9990d363dbdf"
      },
      "outputs": [
        {
          "output_type": "stream",
          "name": "stdout",
          "text": [
            "[0.0, 0.32075471698113206, 0.5849056603773585, 0.05660377358490566, 0.7924528301886793, 1.0, 0.1320754716981132, 0.6415094339622641]\n"
          ]
        }
      ],
      "source": [
        "bp_readings = [120, 137, 151, 123, 162, 173, 127, 154]\n",
        "def normalizing_function():\n",
        "  max_value = max(bp_readings)\n",
        "  min_value = min(bp_readings)\n",
        "  bp_readings_normalized = []\n",
        "\n",
        "  for i in range(len(bp_readings)):\n",
        "    bp_readings_normalized.append((bp_readings[i]-min_value )/ (max_value-min_value))\n",
        "  return bp_readings_normalized\n",
        "normalizing_function()\n",
        "print(normalizing_function()) #I wasn't sure if just having the return would be acceptable so I went ahead and added a print function\n"
      ]
    }
  ]
}